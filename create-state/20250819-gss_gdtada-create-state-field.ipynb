{
 "cells": [
  {
   "cell_type": "markdown",
   "id": "bf76b1e8",
   "metadata": {},
   "source": [
    "# Battery Current State Analysis and Visualization\n",
    "\n",
    "Analyzes and visualizes the current state of battery cells during operation. It processes MATLAB data files to classify and plot the current state (charging, discharging, or idle) of battery cells throughout their testing cycles.\n",
    "\n",
    "The expected result is to generate a graph showing the current state transitions and create a 'estado' field on the dataset. This field will be 1 when the battery is charging, 0 when idle and -1 when discharging.\n",
    "\n",
    "To run the notebook, you need to have the CU_Dynamic folder in this directory."
   ]
  },
  {
   "cell_type": "code",
   "execution_count": 5,
   "id": "772cd538",
   "metadata": {},
   "outputs": [],
   "source": [
    "from create_state_functions import *\n",
    "from json import load"
   ]
  },
  {
   "cell_type": "code",
   "execution_count": null,
   "id": "53cc78ff",
   "metadata": {},
   "outputs": [],
   "source": [
    "# Process all .mat files and generate JSON files with 'estado'\n",
    "process_all_cells(\"CU_Dynamic\")"
   ]
  },
  {
   "cell_type": "code",
   "execution_count": null,
   "id": "b21552fe",
   "metadata": {},
   "outputs": [],
   "source": [
    "# Choose a sample cell for analysis\n",
    "sample_file = \"CU000/BW-VTC-458_7068_CU_cyc_000_BW-VTC-AgeVal.mat\"\n",
    "\n",
    "# Load raw MATLAB data\n",
    "data = load_cell_data(f\"CU_Dynamic/{sample_file}\")\n",
    "\n",
    "# Load the generated 'estado' JSON for the same cell\n",
    "with open(f\"Edited_dics/CU000/BW-VTC-458_7068_CU_cyc_000_BW-VTC-AgeVal.json\", \"r\") as f:\n",
    "    estado = load(f)\n"
   ]
  },
  {
   "cell_type": "code",
   "execution_count": null,
   "id": "13770cd3",
   "metadata": {},
   "outputs": [],
   "source": [
    "# Plot estado vs time for the selected cell\n",
    "plot_estado_over_time(data, estado)"
   ]
  },
  {
   "cell_type": "code",
   "execution_count": 2,
   "id": "9ae2e343",
   "metadata": {},
   "outputs": [],
   "source": [
    "import os\n",
    "\n",
    "for checkup_name in sorted(listdir(\"CU_Dynamic\")):\n",
    "    if checkup_name == \"failed and incomplete\":\n",
    "        continue\n",
    "    for cell in listdir(f\"CU_Dynamic/{checkup_name}\"):\n",
    "        state = []\n",
    "        data = loadmat(f\"CU_Dynamic/{checkup_name}/{cell}\",\n",
    "               squeeze_me=True, struct_as_record=False)[\"Dataset\"].__dict__\n",
    "        for current in data[\"I\"]:\n",
    "            if (eps >= current >= -eps):\n",
    "                state.append(0)\n",
    "            elif (current < -eps):\n",
    "                state.append(-1)\n",
    "            else:\n",
    "                state.append(1)\n",
    "        data[\"estado\"] = state\n",
    "        out_dir = f\"Edited_dics/{checkup_name}\"\n",
    "        os.makedirs(out_dir, exist_ok=True)\n",
    "        with open(f\"{out_dir}/{cell[:-4]}.json\", \"w\") as f:\n",
    "            dump(data['estado'], f)\n",
    "        "
   ]
  },
  {
   "cell_type": "code",
   "execution_count": null,
   "id": "bf0be287",
   "metadata": {},
   "outputs": [
    {
     "data": {
      "image/png": "[encoded data removed]",
      "text/plain": [
       "<Figure size 640x480 with 1 Axes>"
      ]
     },
     "metadata": {},
     "output_type": "display_data"
    }
   ],
   "source": [
    "data = loadmat(f\"CU_Dynamic/CU000/BW-VTC-458_7068_CU_cyc_000_BW-VTC-AgeVal.mat\",\n",
    "        squeeze_me=True, struct_as_record=False)[\"Dataset\"].__dict__\n",
    "\n",
    "from json import load\n",
    "\n",
    "with open(\"Edited_dics/CU000/BW-VTC-458_7068_CU_cyc_000_BW-VTC-AgeVal.json\", \"r\") as f:\n",
    "    arr = load(f)\n",
    "\n",
    "import matplotlib.pyplot as plt\n",
    "\n",
    "plt.figure() \n",
    "plt.plot(data[\"Time\"], arr)\n",
    "plt.xlabel(\"Time\")\n",
    "plt.ylabel(\"estado\")\n",
    "plt.show()\n"
   ]
  }
 ],
 "metadata": {
  "kernelspec": {
   "display_name": ".venv",
   "language": "python",
   "name": "python3"
  },
  "language_info": {
   "codemirror_mode": {
    "name": "ipython",
    "version": 3
   },
   "file_extension": ".py",
   "mimetype": "text/x-python",
   "name": "python",
   "nbconvert_exporter": "python",
   "pygments_lexer": "ipython3",
   "version": "3.12.3"
  }
 },
 "nbformat": 4,
 "nbformat_minor": 5
}
