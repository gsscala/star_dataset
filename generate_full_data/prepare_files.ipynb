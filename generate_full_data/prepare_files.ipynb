{
 "cells": [
  {
   "cell_type": "code",
   "execution_count": 18,
   "id": "4cc9cead",
   "metadata": {},
   "outputs": [],
   "source": [
    "from scipy.io import loadmat\n",
    "from os import listdir\n",
    "from json import dump\n",
    "import numpy as np"
   ]
  },
  {
   "cell_type": "code",
   "execution_count": null,
   "id": "54f7b4f7",
   "metadata": {},
   "outputs": [],
   "source": [
    "def make_json_serializable(obj):\n",
    "    if isinstance(obj, dict):\n",
    "        return {k: make_json_serializable(v) for k, v in obj.items()}\n",
    "    if isinstance(obj, np.ndarray):\n",
    "        return make_json_serializable(obj.tolist())\n",
    "    if isinstance(obj, (list, tuple)):\n",
    "        return [make_json_serializable(x) for x in obj]\n",
    "    if isinstance(obj, (np.integer,)):\n",
    "        return int(obj)\n",
    "    if isinstance(obj, (np.floating,)):\n",
    "        return float(obj)\n",
    "    if isinstance(obj, np.bool_):\n",
    "        return bool(obj)\n",
    "    if isinstance(obj, np.generic):\n",
    "        return obj.item()\n",
    "    return obj\n",
    "\n",
    "full_dict = {}\n",
    "\n",
    "for checkup_name in sorted(listdir(\"CU_Dynamic\")):\n",
    "\tif checkup_name == \"failed and incomplete\":\n",
    "\t\tcontinue\n",
    "\tfull_dict[checkup_name] = {}\n",
    "\tfor cell in listdir(f\"CU_Dynamic/{checkup_name}\"):\n",
    "\t\tif cell.startswith(\"BW-VTC-458\"):\n",
    "\t\t\tdata = loadmat(\n",
    "\t\t\t\tf\"CU_Dynamic/{checkup_name}/{cell}\",\n",
    "\t\t\t\tsqueeze_me=True,\n",
    "\t\t\t\tstruct_as_record=False\n",
    "\t\t\t)[\"Dataset\"].__dict__\n",
    "\n",
    "\t\t\tfor key in data.keys():\n",
    "\t\t\t\tif key in [\"_fieldnames\", \"Info\"]:\n",
    "\t\t\t\t\tcontinue\n",
    "\t\t\t\tfull_dict[checkup_name][key] = data[key]\n",
    "\t\t\tbreak\n",
    "\n",
    "with open(\"full_data.json\", \"w\") as f:\n",
    "\tdump(make_json_serializable(full_dict), f)"
   ]
  }
 ],
 "metadata": {
  "kernelspec": {
   "display_name": "venv",
   "language": "python",
   "name": "python3"
  },
  "language_info": {
   "codemirror_mode": {
    "name": "ipython",
    "version": 3
   },
   "file_extension": ".py",
   "mimetype": "text/x-python",
   "name": "python",
   "nbconvert_exporter": "python",
   "pygments_lexer": "ipython3",
   "version": "3.10.14"
  }
 },
 "nbformat": 4,
 "nbformat_minor": 5
}
