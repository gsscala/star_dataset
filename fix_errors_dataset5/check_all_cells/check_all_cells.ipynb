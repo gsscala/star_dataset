{
 "cells": [
  {
   "cell_type": "markdown",
   "id": "9706f51d",
   "metadata": {},
   "source": [
    "# Check All Cells — Validation Notebook\n",
    "\n",
    "## Purpose\n",
    "This notebook scans the dataset and validates state-period metrics for each .MAT file. It highlights potential issues in CC/CV periods and sign errors in charge/discharge currents.\n",
    "\n",
    "## What it checks\n",
    "- CC periods (\"CC Charge\" / \"CC Discharge\") with high current variability (std_current > 0.05)  \n",
    "- CV periods (\"CV Charge\" / \"CV Discharge\") with high voltage variability (std_tension > 0.05)  \n",
    "- Charge periods with negative average current (avg_current < 0)  \n",
    "- Discharge periods with positive average current (avg_current > 0)\n",
    "\n",
    "## Output\n",
    "Printed lines with file path, problematic status, start/end times and the offending metric value. Use these lines to locate and inspect specific MAT files."
   ]
  },
  {
   "cell_type": "code",
   "execution_count": null,
   "id": "a0dbb8c2",
   "metadata": {},
   "outputs": [],
   "source": [
    "from check_cells_functions import *\n",
    "import os"
   ]
  },
  {
   "cell_type": "code",
   "execution_count": null,
   "id": "68a96eb6",
   "metadata": {},
   "outputs": [
    {
     "name": "stdout",
     "output_type": "stream",
     "text": [
      "File: ../data_pub/CU_Calendar/CU006/BW-VTC-174_4105_CU_cal_006_BW-VTC-CAL.mat, Issue in CC Discharge from 3.00565397208436 to 25.0945428578539 with std_current 0.3543105472864953\n",
      "File: ../data_pub/CU_Cyclic/CU010_cyc/BW-VTC-232_3588_CU_cyc_010_BW-VTC-CYC2.mat, Issue in CC Discharge from 65930.3787513186 to 66360.378737912 with std_current 0.327697507275951\n",
      "File: BW-VTC-395_3282_CU_cyc_002_BW-VTC-SupPos.mat, Issue in CV Discharge from 9.8564889626 to 9.9919161152 with std_tension 0.07631592079418716\n",
      "File: ../data_pub/CU_Cyclic/CU007_cyc/BW-VTC-232_3155_CU_cyc_007_BW-VTC-CYC2.mat, Issue in CC Discharge from 24.2464955063267 to 24.3742732873645 with std_current 0.07615900082108763\n",
      "File: ../data_pub/CU_Cyclic/CU003_cyc/BW-VTC-253_1191_CU_cyc_003_BW-VTC-CYC.mat, Issue in CC Discharge from 3.0056552242 to 3.7947299735 with std_current 0.20833071072926093\n",
      "File: ../data_pub/CU_Cyclic/CU003_cyc/BW-VTC-251_1193_CU_cyc_003_BW-VTC-CYC.mat, Issue in CC Discharge from 3.0056560037 to 3.2529773618 with std_current 0.36657360375505965\n",
      "File: ../data_pub/CU_Cyclic/CU012_cyc/BW-VTC-232_3723_CU_cyc_012_BW-VTC-CYC2.mat, Issue in CC Discharge from 43.1232954136969 to 43.2427398218246 with std_current 0.5602681712021246\n",
      "File: ../data_pub/CU_Cyclic/CU004_cyc/BW-VTC-250_1192_CU_cyc_004_BW-VTC-CYC.mat, Issue in CC Discharge from 3.0056546178 to 3.7502667937 with std_current 0.21437017426036226\n"
     ]
    }
   ],
   "source": [
    "# Load and process data\n",
    "for paste in [\"../data_pub\"]:\n",
    "    for root, dirs, files in os.walk(paste):\n",
    "        for file in files:\n",
    "            if file.endswith(\".mat\"):\n",
    "                metrics = analyze_metrics_by_status_period(process_states(os.path.join(root, file)))\n",
    "\n",
    "                # Check if CC periods have std_current > 0.05\n",
    "                cc_issues = metrics[(metrics[\"status\"] == \"CC Charge\") | (metrics[\"status\"] == \"CC Discharge\")]\n",
    "                cc_issues = cc_issues[cc_issues[\"std_current\"] > 0.05]\n",
    "                for issue in cc_issues.itertuples():\n",
    "                    print(f\"File: {os.path.join(root, file)}, Issue in {issue.status} from {issue.start_time} to {issue.end_time} with std_current {issue.std_current}\")\n",
    "\n",
    "                # Check if CV periods have std_tension > 0.05\n",
    "                cv_issues = metrics[(metrics[\"status\"] == \"CV Charge\") | (metrics[\"status\"] == \"CV Discharge\")]\n",
    "                cv_issues = cv_issues[cv_issues[\"std_tension\"] > 0.05]\n",
    "                for issue in cv_issues.itertuples():\n",
    "                    print(f\"File: {file}, Issue in {issue.status} from {issue.start_time} to {issue.end_time} with std_tension {issue.std_tension}\")\n",
    "\n",
    "                # Check if charges have avg_current < 0\n",
    "                charge_issues = metrics[(metrics[\"status\"] == \"CC Charge\") | (metrics[\"status\"] == \"CV Charge\")]\n",
    "                charge_issues = charge_issues[charge_issues[\"avg_current\"] < 0]\n",
    "                for issue in charge_issues.itertuples():\n",
    "                    print(f\"File: {file}, Issue in {issue.status} from {issue.start_time} to {issue.end_time} with avg_current {issue.avg_current}\")\n",
    "\n",
    "                # Check if discharges have avg_current > 0\n",
    "                discharge_issues = metrics[(metrics[\"status\"] == \"CC Discharge\") | (metrics[\"status\"] == \"CV Discharge\")]  \n",
    "                discharge_issues = discharge_issues[discharge_issues[\"avg_current\"] > 0]\n",
    "                for issue in discharge_issues.itertuples():\n",
    "                    print(f\"File: {file}, Issue in {issue.status} from {issue.start_time} to {issue.end_time} with avg_current {issue.avg_current}\")\n"
   ]
  }
 ],
 "metadata": {
  "kernelspec": {
   "display_name": ".venv (3.12.3)",
   "language": "python",
   "name": "python3"
  },
  "language_info": {
   "codemirror_mode": {
    "name": "ipython",
    "version": 3
   },
   "file_extension": ".py",
   "mimetype": "text/x-python",
   "name": "python",
   "nbconvert_exporter": "python",
   "pygments_lexer": "ipython3",
   "version": "3.12.3"
  }
 },
 "nbformat": 4,
 "nbformat_minor": 5
}
