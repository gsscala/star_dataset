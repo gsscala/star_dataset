{
 "cells": [
  {
   "cell_type": "code",
   "execution_count": 1,
   "id": "d1dbc07b",
   "metadata": {},
   "outputs": [],
   "source": [
    "from json import load, dump\n",
    "from add_fields_functions import *"
   ]
  },
  {
   "cell_type": "code",
   "execution_count": 2,
   "id": "2dc2a9e3",
   "metadata": {},
   "outputs": [],
   "source": [
    "with open(\"../full_data.json\", \"r\") as f:\n",
    "    dataset = load(f)"
   ]
  },
  {
   "cell_type": "code",
   "execution_count": 3,
   "id": "5773b5c6",
   "metadata": {},
   "outputs": [
    {
     "data": {
      "text/plain": [
       "dict_keys(['CU000', 'CU001', 'CU002', 'CU003', 'CU004', 'CU005', 'CU006', 'CU007', 'CU008', 'CU009', 'CU010', 'CU011'])"
      ]
     },
     "execution_count": 3,
     "metadata": {},
     "output_type": "execute_result"
    }
   ],
   "source": [
    "dataset.keys()"
   ]
  },
  {
   "cell_type": "code",
   "execution_count": 4,
   "id": "21f2cc44",
   "metadata": {},
   "outputs": [
    {
     "name": "stdout",
     "output_type": "stream",
     "text": [
      "CU000 OK\n",
      "CU001 OK\n",
      "CU002 OK\n",
      "CU003 OK\n",
      "CU004 OK\n",
      "CU005 OK\n",
      "CU006 OK\n",
      "CU007 OK\n",
      "CU008 OK\n",
      "CU009 OK\n",
      "CU010 OK\n",
      "CU011 OK\n"
     ]
    }
   ],
   "source": [
    "advanced_state = {}\n",
    "\n",
    "for checkup_name in dataset.keys():\n",
    "\tadvanced_state[checkup_name] = []\n",
    "\tcurrents = np.vectorize(lambda x : relaxed_sign(x, 0.2))(derivative(dataset[checkup_name][\"I\"], 5))\n",
    "\ttensions = np.vectorize(lambda x : relaxed_sign(x, 0.2))(derivative(dataset[checkup_name][\"U\"], 5))\n",
    "\n",
    "\tprint(f\"{checkup_name} {'OK' if len(currents) == len(tensions) else 'NOT OK'}\")\n",
    "\t\n",
    "\tfor current, tension, state in zip(currents, tensions, dataset[checkup_name][\"Command\"]):\n",
    "\t\tif state == \"Pause\":\n",
    "\t\t\tcur = \"REST\"\n",
    "\t\telif state == \"Charge\":\n",
    "\t\t\tif current == 0:\n",
    "\t\t\t\tcur = \"CHARGE_CC\"\n",
    "\t\t\telif tension == 0:\n",
    "\t\t\t\tcur = \"CHARGE_CV\"\n",
    "\t\t\telse:\n",
    "\t\t\t\tcur = \"CHARGE_DYNAMIC\"\n",
    "\t\telse:  # discharging\n",
    "\t\t\tif current == 0:\n",
    "\t\t\t\tcur = \"DISCHARGE_CC\"\n",
    "\t\t\telif tension == 0:\n",
    "\t\t\t\tcur = \"DISCHARGE_CV\"\n",
    "\t\t\telse:\n",
    "\t\t\t\tcur = \"DISCHARGE_DYNAMIC\"\n",
    "\t\t\n",
    "\t\tadvanced_state[checkup_name].append(cur)\n"
   ]
  },
  {
   "cell_type": "code",
   "execution_count": 5,
   "id": "34a5e4f6",
   "metadata": {},
   "outputs": [],
   "source": [
    "with open(\"advanced_state.json\", \"w\") as f:\n",
    "\tdump(advanced_state, f)"
   ]
  }
 ],
 "metadata": {
  "kernelspec": {
   "display_name": "venv",
   "language": "python",
   "name": "python3"
  },
  "language_info": {
   "codemirror_mode": {
    "name": "ipython",
    "version": 3
   },
   "file_extension": ".py",
   "mimetype": "text/x-python",
   "name": "python",
   "nbconvert_exporter": "python",
   "pygments_lexer": "ipython3",
   "version": "3.10.14"
  }
 },
 "nbformat": 4,
 "nbformat_minor": 5
}
