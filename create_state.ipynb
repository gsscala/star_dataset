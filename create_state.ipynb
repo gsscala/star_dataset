{
 "cells": [
  {
   "cell_type": "code",
   "execution_count": 3,
   "id": "772cd538",
   "metadata": {},
   "outputs": [],
   "source": [
    "from scipy.io import loadmat\n",
    "from os import listdir\n",
    "import numpy as np\n",
    "import pandas as pd\n",
    "from json import dump\n",
    "eps = 0.01"
   ]
  },
  {
   "cell_type": "code",
   "execution_count": null,
   "id": "9ae2e343",
   "metadata": {},
   "outputs": [],
   "source": [
    "import os\n",
    "\n",
    "for checkup_name in sorted(listdir(\"CU_Dynamic\")):\n",
    "    if checkup_name == \"failed and incomplete\":\n",
    "        continue\n",
    "    for cell in listdir(f\"CU_Dynamic/{checkup_name}\"):\n",
    "        state = []\n",
    "        data = loadmat(f\"CU_Dynamic/{checkup_name}/{cell}\",\n",
    "               squeeze_me=True, struct_as_record=False)[\"Dataset\"].__dict__\n",
    "        for current in data[\"I\"]:\n",
    "            if (eps >= current >= -eps):\n",
    "                state.append(0)\n",
    "            elif (current < -eps):\n",
    "                state.append(-1)\n",
    "            else:\n",
    "                state.append(1)\n",
    "        data[\"estado\"] = state\n",
    "        out_dir = f\"Edited_dics/{checkup_name}\"\n",
    "        os.makedirs(out_dir, exist_ok=True)\n",
    "        with open(f\"{out_dir}/{cell[:-4]}.json\", \"w\") as f:\n",
    "            dump(data['estado'], f)\n",
    "        "
   ]
  },
  {
   "cell_type": "code",
   "execution_count": null,
   "id": "bf0be287",
   "metadata": {},
   "outputs": [],
   "source": []
  }
 ],
 "metadata": {
  "kernelspec": {
   "display_name": "venv",
   "language": "python",
   "name": "python3"
  },
  "language_info": {
   "codemirror_mode": {
    "name": "ipython",
    "version": 3
   },
   "file_extension": ".py",
   "mimetype": "text/x-python",
   "name": "python",
   "nbconvert_exporter": "python",
   "pygments_lexer": "ipython3",
   "version": "3.10.14"
  }
 },
 "nbformat": 4,
 "nbformat_minor": 5
}
